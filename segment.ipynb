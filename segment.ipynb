{
 "cells": [
  {
   "cell_type": "code",
   "execution_count": 2,
   "id": "9629acf5-ecca-4f3d-bb26-afb973f12188",
   "metadata": {},
   "outputs": [],
   "source": [
    "%matplotlib inline\n",
    "import numpy as np\n",
    "import matplotlib\n",
    "import matplotlib.pyplot as plt\n",
    "from scipy.io import wavfile\n",
    "from scipy import signal\n",
    "\n",
    "matplotlib.rcParams['figure.dpi'] = 100"
   ]
  },
  {
   "cell_type": "code",
   "execution_count": 4,
   "id": "0f5033eb-5a1e-4441-a52a-70a3859c357b",
   "metadata": {},
   "outputs": [
    {
     "data": {
      "text/plain": [
       "(2880000,)"
      ]
     },
     "execution_count": 4,
     "metadata": {},
     "output_type": "execute_result"
    }
   ],
   "source": [
    "samplerate, wav = wavfile.read('chicks/audio/0.wav')\n",
    "wav.shape"
   ]
  },
  {
   "cell_type": "code",
   "execution_count": 10,
   "id": "f4875eed-fc28-4890-8708-8a9209a8271a",
   "metadata": {},
   "outputs": [
    {
     "data": {
      "text/plain": [
       "48000"
      ]
     },
     "execution_count": 10,
     "metadata": {},
     "output_type": "execute_result"
    }
   ],
   "source": [
    "samplerate"
   ]
  },
  {
   "cell_type": "code",
   "execution_count": 16,
   "id": "1e027691-fce8-4743-994a-a84d164fec30",
   "metadata": {},
   "outputs": [],
   "source": [
    "# Spectrogram\n",
    "\n",
    "# load the long audio file\n",
    "\n",
    "#samplerate, wav2 = wavfile.read('chicks/audio/0.wav')\n",
    "#wav = wav2[:,0]\n",
    "#wav.shape\n",
    "#wav = wav[:1000000]"
   ]
  },
  {
   "cell_type": "code",
   "execution_count": 5,
   "id": "7c6a2e04-782f-43c0-9a49-604ba11f8628",
   "metadata": {},
   "outputs": [],
   "source": [
    "# Google Spectrogram\n",
    "\n",
    "fs = samplerate  # Sample rate\n",
    "nperseg = 1024  # Number of samples per segment\n",
    "noverlap = nperseg // 2  # Overlap between segments\n",
    "nfft = 4096  # Number of points in FFT\n",
    "# Calculate the spectrogram\n",
    "f, t, Sxx = signal.spectrogram(wav, fs=fs, window='hann', nperseg=nperseg, noverlap=noverlap, nfft=nfft)\n",
    "# Plot the spectrogram\n",
    "#plt.pcolormesh(t, f, 10 * np.log10(Sxx), cmap='inferno')"
   ]
  },
  {
   "cell_type": "code",
   "execution_count": 6,
   "id": "c75b7d2e-2222-480b-966b-3e1d2a0f3733",
   "metadata": {},
   "outputs": [
    {
     "data": {
      "text/plain": [
       "(2049, 5624)"
      ]
     },
     "execution_count": 6,
     "metadata": {},
     "output_type": "execute_result"
    }
   ],
   "source": [
    "Sxx.shape"
   ]
  },
  {
   "cell_type": "code",
   "execution_count": 7,
   "id": "5a38eeda-1c92-46b7-9ea7-4729d82769fe",
   "metadata": {},
   "outputs": [
    {
     "data": {
      "text/plain": [
       "((2049,), (5624,))"
      ]
     },
     "execution_count": 7,
     "metadata": {},
     "output_type": "execute_result"
    }
   ],
   "source": [
    "f.shape, t.shape"
   ]
  },
  {
   "cell_type": "code",
   "execution_count": 10,
   "id": "5f931142-553a-416a-8b73-266ee03d2daf",
   "metadata": {},
   "outputs": [
    {
     "name": "stdout",
     "output_type": "stream",
     "text": [
      "(5624,)\n"
     ]
    },
    {
     "data": {
      "text/plain": [
       "[<matplotlib.lines.Line2D at 0x7fc93487b430>]"
      ]
     },
     "execution_count": 10,
     "metadata": {},
     "output_type": "execute_result"
    },
    {
     "data": {
      "image/png": "[encoded data removed]",
      "text/plain": [
       "<Figure size 600x400 with 1 Axes>"
      ]
     },
     "metadata": {
      "needs_background": "light"
     },
     "output_type": "display_data"
    }
   ],
   "source": [
    "total = np.sum(Sxx, axis=0)\n",
    "print(total.shape)\n",
    "plt.plot(t, total)"
   ]
  },
  {
   "cell_type": "code",
   "execution_count": 11,
   "id": "a90308a0-e8a9-449b-b706-d9b3883dfc94",
   "metadata": {},
   "outputs": [
    {
     "data": {
      "text/plain": [
       "[<matplotlib.lines.Line2D at 0x7fc934800430>]"
      ]
     },
     "execution_count": 11,
     "metadata": {},
     "output_type": "execute_result"
    },
    {
     "data": {
      "image/png": "[encoded data removed]",
      "text/plain": [
       "<Figure size 600x400 with 1 Axes>"
      ]
     },
     "metadata": {
      "needs_background": "light"
     },
     "output_type": "display_data"
    }
   ],
   "source": [
    "th = (total > 0.05 * 1e7).astype(np.float32)\n",
    "plt.plot(th)"
   ]
  },
  {
   "cell_type": "code",
   "execution_count": 12,
   "id": "284788ce-e19f-442d-8f62-764af671849f",
   "metadata": {},
   "outputs": [],
   "source": [
    "switches = np.concatenate(([0], np.where(np.diff(th) != 0)[0]+1, [len(th)]))\n",
    "\n",
    "# create a list of ranges for each segment of continuous 1s\n",
    "ranges = [(switches[i], switches[i+1]-1) for i in range(len(switches)-1) if th[switches[i]] == 1]"
   ]
  },
  {
   "cell_type": "code",
   "execution_count": 13,
   "id": "fbeb97c8-2173-4e44-9640-fd2b61ea00a6",
   "metadata": {},
   "outputs": [
    {
     "data": {
      "text/plain": [
       "[(346, 349),\n",
       " (946, 950),\n",
       " (952, 954),\n",
       " (1222, 1223),\n",
       " (1228, 1229),\n",
       " (1231, 1232),\n",
       " (1234, 1234),\n",
       " (1242, 1247),\n",
       " (2458, 2459),\n",
       " (2513, 2513),\n",
       " (2521, 2522),\n",
       " (2524, 2524),\n",
       " (2527, 2529),\n",
       " (2531, 2533),\n",
       " (2537, 2538),\n",
       " (3526, 3527),\n",
       " (3541, 3542),\n",
       " (5075, 5077),\n",
       " (5085, 5090)]"
      ]
     },
     "execution_count": 13,
     "metadata": {},
     "output_type": "execute_result"
    }
   ],
   "source": [
    "ranges"
   ]
  },
  {
   "cell_type": "code",
   "execution_count": 15,
   "id": "b2d72ce4-5afc-4796-a852-8fbe95701c52",
   "metadata": {},
   "outputs": [
    {
     "name": "stdout",
     "output_type": "stream",
     "text": [
      "346 349\n",
      "3.7013333333333334 3.744\n",
      "177664 179712\n",
      "946 950\n",
      "10.101333333333333 10.154666666666667\n",
      "484864 487424\n",
      "952 954\n",
      "10.165333333333333 10.197333333333333\n",
      "487936 489472\n",
      "1222 1223\n",
      "13.045333333333334 13.066666666666666\n",
      "626176 627200\n",
      "1228 1229\n",
      "13.109333333333334 13.130666666666666\n",
      "629248 630272\n",
      "1231 1232\n",
      "13.141333333333334 13.162666666666667\n",
      "630784 631808\n",
      "1234 1234\n",
      "13.173333333333334 13.184\n",
      "632320 632832\n",
      "1242 1247\n",
      "13.258666666666667 13.322666666666667\n",
      "636416 639488\n",
      "2458 2459\n",
      "26.229333333333333 26.250666666666667\n",
      "1259008 1260032\n",
      "2513 2513\n",
      "26.816 26.826666666666668\n",
      "1287168 1287680\n",
      "2521 2522\n",
      "26.901333333333334 26.922666666666668\n",
      "1291264 1292288\n",
      "2524 2524\n",
      "26.933333333333334 26.944\n",
      "1292800 1293312\n",
      "2527 2529\n",
      "26.965333333333334 26.997333333333334\n",
      "1294336 1295872\n",
      "2531 2533\n",
      "27.008 27.04\n",
      "1296384 1297920\n",
      "2537 2538\n",
      "27.072 27.093333333333334\n",
      "1299456 1300480\n",
      "3526 3527\n",
      "37.62133333333333 37.64266666666666\n",
      "1805824 1806848\n",
      "3541 3542\n",
      "37.781333333333336 37.80266666666667\n",
      "1813504 1814528\n",
      "5075 5077\n",
      "54.144 54.176\n",
      "2598912 2600448\n",
      "5085 5090\n",
      "54.25066666666667 54.31466666666667\n",
      "2604032 2607104\n"
     ]
    }
   ],
   "source": [
    "# t: time offset\n",
    "\n",
    "i = 0\n",
    "for (begin, end) in ranges:\n",
    "    print(begin,end)\n",
    "    seg = th[begin:(end+1)]\n",
    "    begin_time = t[begin]\n",
    "    end_time = t[end+1]\n",
    "    print(begin_time, end_time)\n",
    "    \n",
    "    off_begin = round(begin_time * samplerate)\n",
    "    off_end = round(end_time * samplerate)\n",
    "    print(off_begin, off_end)\n",
    "    \n",
    "    audio_segment = wav[off_begin:off_end]\n",
    "    wavfile.write(\"segments/audio_seg%d.wav\" % i, samplerate, seg)\n",
    "    i = i + 1"
   ]
  }
 ],
 "metadata": {
  "kernelspec": {
   "display_name": "Python 3 (ipykernel)",
   "language": "python",
   "name": "python3"
  },
  "language_info": {
   "codemirror_mode": {
    "name": "ipython",
    "version": 3
   },
   "file_extension": ".py",
   "mimetype": "text/x-python",
   "name": "python",
   "nbconvert_exporter": "python",
   "pygments_lexer": "ipython3",
   "version": "3.8.10"
  }
 },
 "nbformat": 4,
 "nbformat_minor": 5
}
